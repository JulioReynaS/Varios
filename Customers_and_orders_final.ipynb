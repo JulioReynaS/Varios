{
  "cells": [
    {
      "cell_type": "markdown",
      "metadata": {
        "id": "view-in-github",
        "colab_type": "text"
      },
      "source": [
        "<a href=\"https://colab.research.google.com/github/Julio-rs2205/Varios/blob/main/Customers_and_orders_final.ipynb\" target=\"_parent\"><img src=\"https://colab.research.google.com/assets/colab-badge.svg\" alt=\"Open In Colab\"/></a>"
      ]
    },
    {
      "cell_type": "markdown",
      "metadata": {
        "id": "piiX_CRNFYUi"
      },
      "source": [
        "# Technical Challenge ! Custiomers and Orders - The lifeblood of any business!\n",
        "\n",
        "This notebook depends on two data files: customers.scv and orders.csv. These files are hosted in the cloud (or Github), so for simplicity, we are providing you with the code to download and save the two files in a folder called 'sample_data' which lives within this notebook session (not on your local computer nor Google Drive).\n",
        "\n",
        "![sample_data folder in notebook session](https://raw.githubusercontent.com/anyoneai/notebooks/main/customers_and_orders/images/sample_data_folder.png)\n",
        "\n",
        "Please execute the first code snippet before moving to the rest of the exercise as this code will import the data from the files for you to be able to execute the rest of the exercise.\n",
        "\n",
        "Remember as we said in the previous lecture, you have to save this notebook into your Google Drive by going to menu File/Save a Copy In Drive, or clicking in the button \"Copy to Drive\". This way, you will not lose any work you've done and the file will persist with your latest changes in your Google Drive. Also we recommend you to rename your .ipynb in your Google Drive, so you can easily find it in the future."
      ]
    },
    {
      "cell_type": "code",
      "execution_count": null,
      "metadata": {
        "colab": {
          "base_uri": "https://localhost:8080/"
        },
        "id": "MWpVO242FQHC",
        "outputId": "7dbf3225-0fdb-4313-f6e3-3df9f58f0d64"
      },
      "outputs": [
        {
          "output_type": "stream",
          "name": "stdout",
          "text": [
            "Customers and orders CSV files have been added './sample_data'\n"
          ]
        }
      ],
      "source": [
        "import requests\n",
        "\n",
        "def import_data_files():\n",
        "  r = requests.get('https://raw.githubusercontent.com/anyoneai/notebooks/main/customers_and_orders/data/customers.csv')\n",
        "  with open('./sample_data/customers.csv', 'wb') as f:\n",
        "    f.write(r.content)\n",
        "\n",
        "  r = requests.get('https://raw.githubusercontent.com/anyoneai/notebooks/main/customers_and_orders/data/orders.csv')\n",
        "  with open('./sample_data/orders.csv', 'wb') as f:\n",
        "    f.write(r.content)\n",
        "  \n",
        "import_data_files()\n",
        "print(\"Customers and orders CSV files have been added './sample_data'\")"
      ]
    },
    {
      "cell_type": "markdown",
      "metadata": {
        "id": "JQAduY-RWKyB"
      },
      "source": [
        "# Exercise 1: Processing Customers data (difficulty medium)\n",
        "\n",
        "The sample customer data in 'customers.csv' file has just 5 columns: CustomerId, First Name, Last Name, City and State\n",
        "\n",
        "![Data sample](https://raw.githubusercontent.com/anyoneai/notebooks/main/customers_and_orders/images/customers.png)\n",
        "\n",
        "We strongly recommend that you complete from the [Prep Course: Intro to Python](https://colab.research.google.com/github/anyoneai/notebooks/blob/main/python3_crash_course.ipynb) the following section:\n",
        "- Section 7: File I/O (to understand how to read CSV file) \n",
        "- Section 6: For Loop (to navigate the contents of the CSV file)\n",
        "- Section 5: Tuples, Lists, and Dictionaries (to manipulate the data of the CSV file)\n",
        "\n",
        "With this, we hope you can complete this exercise successfully. Although if you want to solve this with libraries or any other way, you are welcome to do it your way.\n",
        "\n",
        "*Hint:* We advise you to take a look at the data before you start.\n",
        "**if you want to manually take a look at the data before you start, please see the content of the data [here](https://github.com/anyoneai/notebooks/blob/main/customers_and_orders/data/customers.csv).\n",
        "\n",
        "*Hint*: There are many ways to do this exercise you can do your own, although here's some help. You can solve this exercise reading and parsing CSV files, structuring data into dictionaries, and using for loops to navigate the contents\n",
        "\n",
        "*Hint*: Also, keep in mind that data might not be clean and you might have to figure out how to deal with that data from the code, without having to modify the data source.\n",
        "\n",
        "Below are the 5 questions you'll have to answer to pass the evaluation:"
      ]
    },
    {
      "cell_type": "markdown",
      "metadata": {
        "id": "kJq7S8sBfbOW"
      },
      "source": [
        "**Question 1:** How many customers are in the file?\n",
        "(as help, we have added some comments and starter code to help you structure the solution)"
      ]
    },
    {
      "cell_type": "code",
      "source": [
        "from os.path import exists\n",
        "import csv\n",
        "\n",
        "# customers file is in the sample_data folder and can be opened.\n",
        "# Using csv reader is one way of dealing with the file \n",
        "# but it's up to you how you want to proceed\n",
        "\n",
        "customers_datafile = \"./sample_data/customers.csv\"\n",
        "with open(customers_datafile, newline='') as fl:\n",
        "    reader = csv.DictReader(fl)\n",
        "    customers_dict = {}\n",
        "    for row in reader:\n",
        "        new_row = {}\n",
        "        for key, value in row.items():\n",
        "            new_row[key.strip().upper()] = value.strip().upper()\n",
        "\n",
        "        customers_dict[len(customers_dict) + 1] = new_row\n",
        "\n",
        "# print(customers_dict)\n",
        "list_of_customers = set([value['CUSTOMERID'] for key, value in customers_dict.items()])\n",
        "\n",
        "# Printing the answer to Question 1:\n",
        "print(f\"There are {len(list_of_customers)} costumers in the file.\")"
      ],
      "metadata": {
        "colab": {
          "base_uri": "https://localhost:8080/"
        },
        "id": "fn75Lf9JfNB0",
        "outputId": "47ce7182-d60a-4b7b-9f21-450ed5daf4b1"
      },
      "execution_count": null,
      "outputs": [
        {
          "output_type": "stream",
          "name": "stdout",
          "text": [
            "There are 471 costumers in the file.\n"
          ]
        }
      ]
    },
    {
      "cell_type": "markdown",
      "metadata": {
        "id": "uffBnNgz_570"
      },
      "source": [
        "**Question 2:** In how many different states do the customers live in?"
      ]
    },
    {
      "cell_type": "code",
      "source": [
        "# open file and init vars\n",
        "\n",
        "list_of_states = set([value['STATE'] for key, value in customers_dict.items()])\n",
        "\n",
        "# Printing the answer to Question 2:\n",
        "print(f\"The costumers live in {len(list_of_states)} different states.\")"
      ],
      "metadata": {
        "colab": {
          "base_uri": "https://localhost:8080/"
        },
        "id": "Z2fzBCtGV1Ho",
        "outputId": "f4722d91-c5bd-4b0e-ea4e-62baa3439750"
      },
      "execution_count": null,
      "outputs": [
        {
          "output_type": "stream",
          "name": "stdout",
          "text": [
            "The costumers live in 14 different states.\n"
          ]
        }
      ]
    },
    {
      "cell_type": "markdown",
      "metadata": {
        "id": "DC59SZYiMfNY"
      },
      "source": [
        "**Question 3** What is the state with most customers?"
      ]
    },
    {
      "cell_type": "code",
      "source": [
        "# open file and init vars\n",
        "# evaluate the contents of the file\n",
        "\n",
        "unique_customers_by_state = {}\n",
        "for key, value in customers_dict.items():\n",
        "    state = value['STATE']\n",
        "    if state not in unique_customers_by_state:\n",
        "        unique_customers_by_state[state] = set()\n",
        "    unique_customers_by_state[state].add(value['CUSTOMERID'])\n",
        "\n",
        "max_state = ''\n",
        "max_count = 0\n",
        "for state, customers in unique_customers_by_state.items():\n",
        "    count = len(customers)\n",
        "    if count > max_count:\n",
        "        max_count = count\n",
        "        max_state = state\n",
        "\n",
        "# Printing the answer to Question 3:\n",
        "# print(max_count)\n",
        "print(f\"The state with most customers is {max_state}\")"
      ],
      "metadata": {
        "colab": {
          "base_uri": "https://localhost:8080/"
        },
        "id": "7uwsjeu1tTUQ",
        "outputId": "72ecc03c-0e10-4b29-bb2c-581e335dded8"
      },
      "execution_count": null,
      "outputs": [
        {
          "output_type": "stream",
          "name": "stdout",
          "text": [
            "The state with most customers is CA\n"
          ]
        }
      ]
    },
    {
      "cell_type": "markdown",
      "metadata": {
        "id": "7mcM6cUAMhLB"
      },
      "source": [
        "**Question 4** What is the state with the least customers?"
      ]
    },
    {
      "cell_type": "code",
      "source": [
        "# open file and init vars\n",
        "# evaluate the contents of the file\n",
        "\n",
        "counts = [len(customers) for customers in unique_customers_by_state.values()]\n",
        "min_count = min(counts)\n",
        "min_states = [state for state, customers in unique_customers_by_state.items() if len(customers) == min_count]\n",
        "\n",
        "# Printing the answer to Question 4:\n",
        "print(f\"The states with least customers are:\")\n",
        "\n",
        "for i in range(len(min_states)):\n",
        "  print(min_states[i])"
      ],
      "metadata": {
        "colab": {
          "base_uri": "https://localhost:8080/"
        },
        "id": "DNO9eqBfk_SA",
        "outputId": "ec38f52e-f67c-4778-95c7-c2754cb48f2b"
      },
      "execution_count": null,
      "outputs": [
        {
          "output_type": "stream",
          "name": "stdout",
          "text": [
            "The states with least customers are:\n",
            "WA\n",
            "NH\n",
            "ID\n",
            "OR\n",
            "UT\n",
            "MA\n",
            "IN\n"
          ]
        }
      ]
    },
    {
      "cell_type": "markdown",
      "metadata": {
        "id": "h6fIy7hXHF6A"
      },
      "source": [
        "**Question 5:** What is the most common last name?"
      ]
    },
    {
      "cell_type": "code",
      "source": [
        "# open file and init vars\n",
        "# evaluate the contents of the file\n",
        "\n",
        "from collections import Counter\n",
        "\n",
        "list_of_lastnames = ([value['LASTNAME'] for key, value in customers_dict.items()])\n",
        "\n",
        "most_common_last_names = Counter(list_of_lastnames).most_common()[::1]  # making a descending sorted list with last names that are most repeated\n",
        "max_reps = most_common_last_names[0][1]  # the most repetitions\n",
        "most_common_last_names = [mcln for mcln, rep in most_common_last_names if rep == max_reps]  # mcln: most common last name\n",
        "\n",
        "# print(list_of_lastnames)\n",
        "# Printing the answer to Question 5:\n",
        "print(f\"The most common lastnames are:\")\n",
        "\n",
        "for i in range(len(most_common_last_names)):\n",
        "  print(most_common_last_names[i])"
      ],
      "metadata": {
        "colab": {
          "base_uri": "https://localhost:8080/"
        },
        "id": "vKVpni6O0qrk",
        "outputId": "f27dd0be-a650-4911-b0e7-b60810bd6316"
      },
      "execution_count": null,
      "outputs": [
        {
          "output_type": "stream",
          "name": "stdout",
          "text": [
            "The most common lastnames are:\n",
            "SMITH\n"
          ]
        }
      ]
    },
    {
      "cell_type": "markdown",
      "metadata": {
        "id": "YPRma1t9NoFk"
      },
      "source": [
        "# Exercise 2: Processing Orders data (difficulty high)\n",
        "\n",
        "The second sample files contains orders placed by customers from the first file. Be careful, this file has many rows and you most likely should not print the contents of the whole file. \n",
        "\n",
        "The file contains the following columns: CustomerID, OrderID, Date, OrderTotal, ProductName, Price\n",
        "\n",
        "![Data sample](https://raw.githubusercontent.com/anyoneai/notebooks/main/customers_and_orders/images/orders.png)\n",
        "\n",
        "*Hint:* We advise you to take a look at the data before you start.\n",
        "**if you want to manually take a look at the data before you start, please see the content of the data [here](https://raw.githubusercontent.com/anyoneai/notebooks/main/customers_and_orders/data/orders.csv).\n",
        "\n",
        "*Hint*: There are many ways to do this exercise you can do your own, although here's some help. You can solve this exercise reading and parsing CSV files, structuring data into dictionaries, and using for loops to navigate the contents\n",
        "\n",
        "*Hint*: Also, the data is not clean and you will have to figure out how to deal with that data from the code, without having to modify the data source.\n",
        "\n",
        "\n",
        "\n",
        "**Question #1:** How many unique orders are in the orders.csv file?\n",
        "\n",
        "**Question #2:** What is the average number of items per order (rounded to two decimal places)?\n",
        "\n",
        "**Question #3:** What is the highest number of items per order?\n",
        "\n",
        "**Question #4:** What is the number of orders placed in October 2021?\n",
        "\n",
        "**Question #5:** Which customer spent the most amount of money in 2021?\n",
        "\n",
        "**Question #6:** Historically, what is the best month for sales?\n",
        "\n",
        "Once you get your answers, remember to go back to the course and introduce them in the multiple choice quiz"
      ]
    },
    {
      "cell_type": "code",
      "source": [
        "#First, we pass data to a dictionary\n",
        "import csv\n",
        "\n",
        "orders_datafile = \"./sample_data/orders.csv\"\n",
        "orders = {}\n",
        "\n",
        "with open(orders_datafile, 'r') as fl:\n",
        "    csvreader = csv.DictReader(fl)\n",
        "    for row in csvreader:\n",
        "        order_id = row[\"OrderID\"]\n",
        "        if order_id not in orders:\n",
        "            orders[order_id] = {\"CustomerID\": row[\"CustomerID\"],\n",
        "                                \"Date\": row[\"Date\"],\n",
        "                                \"OrderTotal\": float(row[\"OrderTotal\"]),\n",
        "                                \"Items\": []}\n",
        "        orders[order_id][\"Items\"].append({\"ProductName\": row[\"ProductName\"],\n",
        "                                          \"Price\": float(row[\"Price\"])})"
      ],
      "metadata": {
        "id": "S0te6MjdAyoR"
      },
      "execution_count": null,
      "outputs": []
    },
    {
      "cell_type": "code",
      "source": [
        "#print(orders.items())"
      ],
      "metadata": {
        "id": "LJdXL6usDa5H"
      },
      "execution_count": null,
      "outputs": []
    },
    {
      "cell_type": "code",
      "source": [
        "# Question 1: How many unique orders are in the orders.csv file?\n",
        "num_orders = len(orders)\n",
        "\n",
        "# Printing the answer:\n",
        "print(f\"There are {num_orders} unique orders in the orders.csv file.\")"
      ],
      "metadata": {
        "colab": {
          "base_uri": "https://localhost:8080/"
        },
        "id": "d33aJ52EBMq-",
        "outputId": "a97d88fc-9907-4911-a3a4-f578f736adb6"
      },
      "execution_count": null,
      "outputs": [
        {
          "output_type": "stream",
          "name": "stdout",
          "text": [
            "There are 16672 unique orders in the orders.csv file.\n"
          ]
        }
      ]
    },
    {
      "cell_type": "code",
      "source": [
        "# Question 2: What is the average number of items per order (rounded to two decimal places)?\n",
        "num_items = sum(len(order[\"Items\"]) for order in orders.values())\n",
        "avg_items = round(num_items / num_orders, 2)\n",
        "\n",
        "# Printing the answer:\n",
        "print(f\"The average number of items per order is {avg_items}\")"
      ],
      "metadata": {
        "colab": {
          "base_uri": "https://localhost:8080/"
        },
        "id": "AS9hH-9TC8zK",
        "outputId": "7837dad8-91f8-493f-ed5b-7402a12de8ca"
      },
      "execution_count": null,
      "outputs": [
        {
          "output_type": "stream",
          "name": "stdout",
          "text": [
            "The average number of items per order is 1.76\n"
          ]
        }
      ]
    },
    {
      "cell_type": "code",
      "source": [
        "# Question 3: What is the highest number of items per order?\n",
        "max_items = max(len(order[\"Items\"]) for order in orders.values())\n",
        "\n",
        "# Printing the answer:\n",
        "print(f\"The highest number of items per order is {max_items}\")"
      ],
      "metadata": {
        "colab": {
          "base_uri": "https://localhost:8080/"
        },
        "id": "hdEAWMtUDLCj",
        "outputId": "4135fcd3-8408-418c-ba9a-772c9db7f6e7"
      },
      "execution_count": null,
      "outputs": [
        {
          "output_type": "stream",
          "name": "stdout",
          "text": [
            "The highest number of items per order is 35\n"
          ]
        }
      ]
    },
    {
      "cell_type": "code",
      "source": [
        "# Question 4: What is the number of orders placed in October 2021?\n",
        "oct_2021_orders = sum(1 for order in orders.values() if order[\"Date\"].startswith(\"2021-10\"))\n",
        "\n",
        "# Printing the answer:\n",
        "print(f\"The number of orders placed in October 2021 is: {oct_2021_orders}\")"
      ],
      "metadata": {
        "colab": {
          "base_uri": "https://localhost:8080/"
        },
        "id": "F5I_jNT7D6Qt",
        "outputId": "bdc07621-087b-49a0-c1e6-a61f12ef76ee"
      },
      "execution_count": null,
      "outputs": [
        {
          "output_type": "stream",
          "name": "stdout",
          "text": [
            "The number of orders placed in October 2021 is: 267\n"
          ]
        }
      ]
    },
    {
      "cell_type": "code",
      "source": [
        "# Question 5: Which customer spent the most amount of money in 2021?\n",
        "\n",
        "customer_spending = {}\n",
        "\n",
        "for order in orders.values():\n",
        "    year = order[\"Date\"][:4]\n",
        "    if year == \"2021\":\n",
        "        customer_id = order[\"CustomerID\"]\n",
        "        if customer_id not in customer_spending:\n",
        "            customer_spending[customer_id] = 0\n",
        "        customer_spending[customer_id] += order[\"OrderTotal\"]\n",
        "\n",
        "max_customer_spending = max(customer_spending.items(), key=lambda x: x[1])\n",
        "# print(customer_spending)\n",
        "\n",
        "# Printing the answer:\n",
        "print(f\"The CustomerID of the customer who spent the most amount of money in 2021 is: {max_customer_spending[0]} who has spent ${max_customer_spending[1]}\")\n"
      ],
      "metadata": {
        "colab": {
          "base_uri": "https://localhost:8080/"
        },
        "id": "mhE9Bi46ED8b",
        "outputId": "c97cfcf6-657e-437a-f872-76b669aea211"
      },
      "execution_count": null,
      "outputs": [
        {
          "output_type": "stream",
          "name": "stdout",
          "text": [
            "The CustomerID of the customer who spent the most amount of money in 2021 is: 5172443 who has spent $7755.0\n"
          ]
        }
      ]
    },
    {
      "cell_type": "code",
      "source": [
        "# Question 6: Historically, what is the best month for sales?\n",
        "import calendar\n",
        "\n",
        "sales_by_month = {}\n",
        "\n",
        "for order in orders.values():\n",
        "    month = order[\"Date\"][5:7]\n",
        "    if month not in sales_by_month:\n",
        "        sales_by_month[month] = 0\n",
        "    sales_by_month[month] += order[\"OrderTotal\"]\n",
        "\n",
        "best_month_num = max(sales_by_month.items(), key=lambda x: x[1])[0]\n",
        "best_month_name = calendar.month_name[int(best_month_num)]\n",
        "\n",
        "# print(best_month_name)\n",
        "# Printing the answer:\n",
        "print(f\"Historically, the best month for sales is: {best_month_name}\")"
      ],
      "metadata": {
        "colab": {
          "base_uri": "https://localhost:8080/"
        },
        "id": "SyXr6pMOA1e3",
        "outputId": "1857cbe2-d3b8-4040-9650-75d8a7881b02"
      },
      "execution_count": null,
      "outputs": [
        {
          "output_type": "stream",
          "name": "stdout",
          "text": [
            "Historically, the best month for sales is: January\n"
          ]
        }
      ]
    },
    {
      "cell_type": "markdown",
      "metadata": {
        "id": "ie0JW4FAk6Os"
      },
      "source": [
        "# Finished!\n",
        "\n",
        "Hope this was not too difficult and slicing and dicing the datasets was some fun. Now head on back to the course and provide the answers to the questions from this exercise."
      ]
    }
  ],
  "metadata": {
    "colab": {
      "provenance": [],
      "include_colab_link": true
    },
    "kernelspec": {
      "display_name": "Python 3 (ipykernel)",
      "language": "python",
      "name": "python3"
    },
    "language_info": {
      "codemirror_mode": {
        "name": "ipython",
        "version": 3
      },
      "file_extension": ".py",
      "mimetype": "text/x-python",
      "name": "python",
      "nbconvert_exporter": "python",
      "pygments_lexer": "ipython3",
      "version": "3.9.9"
    }
  },
  "nbformat": 4,
  "nbformat_minor": 0
}