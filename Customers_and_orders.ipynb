{
  "cells": [
    {
      "cell_type": "markdown",
      "metadata": {
        "id": "view-in-github",
        "colab_type": "text"
      },
      "source": [
        "<a href=\"https://colab.research.google.com/github/Julio-rs2205/Varios/blob/main/Customers_and_orders.ipynb\" target=\"_parent\"><img src=\"https://colab.research.google.com/assets/colab-badge.svg\" alt=\"Open In Colab\"/></a>"
      ]
    },
    {
      "cell_type": "markdown",
      "metadata": {
        "id": "piiX_CRNFYUi"
      },
      "source": [
        "# Technical Challenge ! Custiomers and Orders - The lifeblood of any business!\n",
        "\n",
        "This notebook depends on two data files: customers.scv and orders.csv. These files are hosted in the cloud (or Github), so for simplicity, we are providing you with the code to download and save the two files in a folder called 'sample_data' which lives within this notebook session (not on your local computer nor Google Drive).\n",
        "\n",
        "![sample_data folder in notebook session](https://raw.githubusercontent.com/anyoneai/notebooks/main/customers_and_orders/images/sample_data_folder.png)\n",
        "\n",
        "Please execute the first code snippet before moving to the rest of the exercise as this code will import the data from the files for you to be able to execute the rest of the exercise.\n",
        "\n",
        "Remember as we said in the previous lecture, you have to save this notebook into your Google Drive by going to menu File/Save a Copy In Drive, or clicking in the button \"Copy to Drive\". This way, you will not lose any work you've done and the file will persist with your latest changes in your Google Drive. Also we recommend you to rename your .ipynb in your Google Drive, so you can easily find it in the future."
      ]
    },
    {
      "cell_type": "code",
      "execution_count": 2,
      "metadata": {
        "colab": {
          "base_uri": "https://localhost:8080/"
        },
        "id": "MWpVO242FQHC",
        "outputId": "4d0a612a-673a-4ec2-d0c8-8c5683a64665"
      },
      "outputs": [
        {
          "output_type": "stream",
          "name": "stdout",
          "text": [
            "Customers and orders CSV files have been added './sample_data'\n"
          ]
        }
      ],
      "source": [
        "import requests\n",
        "\n",
        "def import_data_files():\n",
        "  r = requests.get('https://raw.githubusercontent.com/anyoneai/notebooks/main/customers_and_orders/data/customers.csv')\n",
        "  with open('./sample_data/customers.csv', 'wb') as f:\n",
        "    f.write(r.content)\n",
        "\n",
        "  r = requests.get('https://raw.githubusercontent.com/anyoneai/notebooks/main/customers_and_orders/data/orders.csv')\n",
        "  with open('./sample_data/orders.csv', 'wb') as f:\n",
        "    f.write(r.content)\n",
        "  \n",
        "import_data_files()\n",
        "print(\"Customers and orders CSV files have been added './sample_data'\")"
      ]
    },
    {
      "cell_type": "markdown",
      "metadata": {
        "id": "JQAduY-RWKyB"
      },
      "source": [
        "# Exercise 1: Processing Customers data (difficulty medium)\n",
        "\n",
        "The sample customer data in 'customers.csv' file has just 5 columns: CustomerId, First Name, Last Name, City and State\n",
        "\n",
        "![Data sample](https://raw.githubusercontent.com/anyoneai/notebooks/main/customers_and_orders/images/customers.png)\n",
        "\n",
        "We strongly recommend that you complete from the [Prep Course: Intro to Python](https://colab.research.google.com/github/anyoneai/notebooks/blob/main/python3_crash_course.ipynb) the following section:\n",
        "- Section 7: File I/O (to understand how to read CSV file) \n",
        "- Section 6: For Loop (to navigate the contents of the CSV file)\n",
        "- Section 5: Tuples, Lists, and Dictionaries (to manipulate the data of the CSV file)\n",
        "\n",
        "With this, we hope you can complete this exercise successfully. Although if you want to solve this with libraries or any other way, you are welcome to do it your way.\n",
        "\n",
        "*Hint:* We advise you to take a look at the data before you start.\n",
        "**if you want to manually take a look at the data before you start, please see the content of the data [here](https://github.com/anyoneai/notebooks/blob/main/customers_and_orders/data/customers.csv).\n",
        "\n",
        "*Hint*: There are many ways to do this exercise you can do your own, although here's some help. You can solve this exercise reading and parsing CSV files, structuring data into dictionaries, and using for loops to navigate the contents\n",
        "\n",
        "*Hint*: Also, keep in mind that data might not be clean and you might have to figure out how to deal with that data from the code, without having to modify the data source.\n",
        "\n",
        "Below are the 5 questions you'll have to answer to pass the evaluation:"
      ]
    },
    {
      "cell_type": "markdown",
      "metadata": {
        "id": "kJq7S8sBfbOW"
      },
      "source": [
        "**Question 1:** How many customers are in the file?\n",
        "(as help, we have added some comments and starter code to help you structure the solution)"
      ]
    },
    {
      "cell_type": "code",
      "source": [
        "from os.path import exists\n",
        "import csv\n",
        "\n",
        "# customers file is in the sample_data folder and can be opened.\n",
        "# Using csv reader is one way of dealing with the file \n",
        "# but it's up to you how you want to proceed\n",
        "\n",
        "datafile = \"./sample_data/customers.csv\"\n",
        "with open(datafile, newline='') as fl:\n",
        "    reader = csv.DictReader(fl)\n",
        "    customers_dict = {}\n",
        "    for row in reader:\n",
        "        new_row = {}\n",
        "        for key, value in row.items():\n",
        "            new_row[key.strip().upper()] = value.strip().upper()\n",
        "\n",
        "        customers_dict[len(customers_dict) + 1] = new_row\n",
        "\n",
        "# print(customers_dict)\n",
        "list_of_customers = set([value['CUSTOMERID'] for key, value in customers_dict.items()])\n",
        "\n",
        "# Printing the answer to Question 1:\n",
        "print(f\"There are {len(list_of_customers)} costumers in the file.\")"
      ],
      "metadata": {
        "colab": {
          "base_uri": "https://localhost:8080/"
        },
        "id": "fn75Lf9JfNB0",
        "outputId": "45891c09-9b74-4eff-9fd2-cc5bff588439"
      },
      "execution_count": 193,
      "outputs": [
        {
          "output_type": "stream",
          "name": "stdout",
          "text": [
            "There are 471 costumers in the file.\n"
          ]
        }
      ]
    },
    {
      "cell_type": "markdown",
      "metadata": {
        "id": "uffBnNgz_570"
      },
      "source": [
        "**Question 2:** In how many different states do the customers live in?"
      ]
    },
    {
      "cell_type": "code",
      "source": [
        "# open file and init vars\n",
        "\n",
        "list_of_states = set([value['STATE'] for key, value in customers_dict.items()])\n",
        "\n",
        "# Printing the answer to Question 2:\n",
        "print(f\"The costumers live in {len(list_of_states)} different states.\")"
      ],
      "metadata": {
        "colab": {
          "base_uri": "https://localhost:8080/"
        },
        "id": "Z2fzBCtGV1Ho",
        "outputId": "50e5a82c-8ea3-4715-8f0e-fc930ff09617"
      },
      "execution_count": 194,
      "outputs": [
        {
          "output_type": "stream",
          "name": "stdout",
          "text": [
            "The costumers live in 14 different states.\n"
          ]
        }
      ]
    },
    {
      "cell_type": "markdown",
      "metadata": {
        "id": "DC59SZYiMfNY"
      },
      "source": [
        "**Question 3** What is the state with most customers?"
      ]
    },
    {
      "cell_type": "code",
      "source": [
        "# open file and init vars\n",
        "# evaluate the contents of the file\n",
        "\n",
        "unique_customers_by_state = {}\n",
        "for key, value in customers_dict.items():\n",
        "    state = value['STATE']\n",
        "    if state not in unique_customers_by_state:\n",
        "        unique_customers_by_state[state] = set()\n",
        "    unique_customers_by_state[state].add(value['CUSTOMERID'])\n",
        "\n",
        "max_state = ''\n",
        "max_count = 0\n",
        "for state, customers in unique_customers_by_state.items():\n",
        "    count = len(customers)\n",
        "    if count > max_count:\n",
        "        max_count = count\n",
        "        max_state = state\n",
        "\n",
        "# Printing the answer to Question 3:\n",
        "# print(max_count)\n",
        "print(f\"The state with most customers is {max_state}\")"
      ],
      "metadata": {
        "colab": {
          "base_uri": "https://localhost:8080/"
        },
        "id": "7uwsjeu1tTUQ",
        "outputId": "59eea44e-a80a-4e9b-dc72-02d5e3bc4e70"
      },
      "execution_count": 195,
      "outputs": [
        {
          "output_type": "stream",
          "name": "stdout",
          "text": [
            "The state with most customers is CA\n"
          ]
        }
      ]
    },
    {
      "cell_type": "markdown",
      "metadata": {
        "id": "7mcM6cUAMhLB"
      },
      "source": [
        "**Question 4** What is the state with the least customers?"
      ]
    },
    {
      "cell_type": "code",
      "source": [
        "# open file and init vars\n",
        "# evaluate the contents of the file\n",
        "\n",
        "counts = [len(customers) for customers in unique_customers_by_state.values()]\n",
        "min_count = min(counts)\n",
        "min_states = [state for state, customers in unique_customers_by_state.items() if len(customers) == min_count]\n",
        "\n",
        "# Printing the answer to Question 3:\n",
        "print(f\"The states with least customers are:\")\n",
        "\n",
        "for i in range(len(min_states)):\n",
        "  print(min_states[i])"
      ],
      "metadata": {
        "colab": {
          "base_uri": "https://localhost:8080/"
        },
        "id": "DNO9eqBfk_SA",
        "outputId": "14407b22-766b-4d61-92c4-5cdbda90672d"
      },
      "execution_count": 196,
      "outputs": [
        {
          "output_type": "stream",
          "name": "stdout",
          "text": [
            "The states with least customers are:\n",
            "WA\n",
            "NH\n",
            "ID\n",
            "OR\n",
            "UT\n",
            "MA\n",
            "IN\n"
          ]
        }
      ]
    },
    {
      "cell_type": "markdown",
      "metadata": {
        "id": "h6fIy7hXHF6A"
      },
      "source": [
        "**Question 5:** What is the most common last name?"
      ]
    },
    {
      "cell_type": "code",
      "source": [
        "# open file and init vars\n",
        "# evaluate the contents of the file\n",
        "\n",
        "from collections import Counter\n",
        "\n",
        "list_of_lastnames = ([value['LASTNAME'] for key, value in customers_dict.items()])\n",
        "\n",
        "most_common_last_names = Counter(list_of_lastnames).most_common()[::1]  # making a descending sorted list with last names that are most repeated\n",
        "max_reps = most_common_last_names[0][1]  # the most repetitions\n",
        "most_common_last_names = [mcln for mcln, rep in most_common_last_names if rep == max_reps]  # mcln: most common last name\n",
        "\n",
        "# print(list_of_lastnames)\n",
        "print(f\"The most common lastnames are:\")\n",
        "\n",
        "for i in range(len(most_common_last_names)):\n",
        "  print(most_common_last_names[i])"
      ],
      "metadata": {
        "colab": {
          "base_uri": "https://localhost:8080/"
        },
        "id": "vKVpni6O0qrk",
        "outputId": "5de70228-7a7f-44e4-eb1b-15ea2b7057bd"
      },
      "execution_count": 214,
      "outputs": [
        {
          "output_type": "stream",
          "name": "stdout",
          "text": [
            "The most common lastnames are:\n",
            "SMITH\n"
          ]
        }
      ]
    },
    {
      "cell_type": "markdown",
      "metadata": {
        "id": "YPRma1t9NoFk"
      },
      "source": [
        "# Exercise 2: Processing Orders data (difficulty high)\n",
        "\n",
        "The second sample files contains orders placed by customers from the first file. Be careful, this file has many rows and you most likely should not print the contents of the whole file. \n",
        "\n",
        "The file contains the following columns: CustomerID, OrderID, Date, OrderTotal, ProductName, Price\n",
        "\n",
        "![Data sample](https://raw.githubusercontent.com/anyoneai/notebooks/main/customers_and_orders/images/orders.png)\n",
        "\n",
        "*Hint:* We advise you to take a look at the data before you start.\n",
        "**if you want to manually take a look at the data before you start, please see the content of the data [here](https://raw.githubusercontent.com/anyoneai/notebooks/main/customers_and_orders/data/orders.csv).\n",
        "\n",
        "*Hint*: There are many ways to do this exercise you can do your own, although here's some help. You can solve this exercise reading and parsing CSV files, structuring data into dictionaries, and using for loops to navigate the contents\n",
        "\n",
        "*Hint*: Also, the data is not clean and you will have to figure out how to deal with that data from the code, without having to modify the data source.\n",
        "\n",
        "\n",
        "\n",
        "**Question #1:** How many unique orders are in the orders.csv file?\n",
        "\n",
        "**Question #2:** What is the average number of items per order (rounded to two decimal places)?\n",
        "\n",
        "**Question #3:** What is the highest number of items per order?\n",
        "\n",
        "**Question #4:** What is the number of orders placed in October 2021?\n",
        "\n",
        "**Question #5:** Which customer spent the most amount of money in 2021?\n",
        "\n",
        "**Question #6:** Historically, what is the best month for sales?\n",
        "\n",
        "Once you get your answers, remember to go back to the course and introduce them in the multiple choice quiz"
      ]
    },
    {
      "cell_type": "code",
      "execution_count": 3,
      "metadata": {
        "id": "8ipJTrfs5QVM",
        "colab": {
          "base_uri": "https://localhost:8080/"
        },
        "outputId": "0e432f25-b71c-4299-a8af-71e21c80937e"
      },
      "outputs": [
        {
          "output_type": "stream",
          "name": "stdout",
          "text": [
            "There are 16672 costumers in the file.\n"
          ]
        }
      ],
      "source": [
        "# open and evaluate orders.csv\n",
        "from os.path import exists\n",
        "import csv\n",
        "\n",
        "# customers file is in the sample_data folder and can be opened.\n",
        "# Using csv reader is one way of dealing with the file \n",
        "# but it's up to you how you want to proceed\n",
        "\n",
        "orders_datafile = \"./sample_data/orders.csv\"\n",
        "with open(orders_datafile, newline='') as fl:\n",
        "    reader = csv.DictReader(fl)\n",
        "    orders_dict = {}\n",
        "    for row in reader:\n",
        "        new_row = {}\n",
        "        for key, value in row.items():\n",
        "            new_row[key.strip().upper()] = value.strip().upper()\n",
        "\n",
        "        orders_dict[len(orders_dict) + 1] = new_row\n",
        "\n",
        "# print(customers_dict)\n",
        "list_of_orders = set([value['ORDERID'] for key, value in orders_dict.items()])\n",
        "\n",
        "# Printing the answer to Question #1:\n",
        "print(f\"There are {len(list_of_orders)} unique orders in the orders.csv file.\")"
      ]
    },
    {
      "cell_type": "code",
      "source": [
        "import csv\n",
        "\n",
        "def csv_to_dict(csv_file):\n",
        "    with open(csv_file, newline='') as file:\n",
        "        reader = csv.DictReader(file)\n",
        "        data = []\n",
        "        unique_orders = set()\n",
        "        for row in reader:\n",
        "            order_id = row['OrderID']\n",
        "            unique_orders.add(order_id)\n",
        "            item = {\n",
        "                'CustomerID': row['CustomerID'],\n",
        "                'OrderID': order_id,\n",
        "                'Date': row['Date'],\n",
        "                'OrderTotal': float(row['OrderTotal']),\n",
        "                'ProductName': row['ProductName'],\n",
        "                'Price': float(row['Price'])\n",
        "            }\n",
        "            data.append(item)\n",
        "    \n",
        "    grouped_data = {}\n",
        "    for item in data:\n",
        "        customer_id = item['CustomerID']\n",
        "        if customer_id not in grouped_data:\n",
        "            grouped_data[customer_id] = []\n",
        "        grouped_data[customer_id].append(item)\n",
        "    \n",
        "    return grouped_data, len(unique_orders)\n",
        "\n",
        "data, num_orders = csv_to_dict(orders_datafile)\n",
        "print(num_orders) # prints the number of unique orders in the file"
      ],
      "metadata": {
        "colab": {
          "base_uri": "https://localhost:8080/"
        },
        "id": "gCvpjzYTJgwD",
        "outputId": "94e04207-9c53-4a18-f355-96e764c39bc2"
      },
      "execution_count": 4,
      "outputs": [
        {
          "output_type": "stream",
          "name": "stdout",
          "text": [
            "16672\n"
          ]
        }
      ]
    },
    {
      "cell_type": "code",
      "source": [
        "# QUESTION 02\n",
        "\n",
        "import csv\n",
        "\n",
        "def csv_to_dict(csv_file):\n",
        "    with open(csv_file, newline='') as file:\n",
        "        reader = csv.DictReader(file)\n",
        "        data = []\n",
        "        unique_orders = set()\n",
        "        num_items_per_order = {}\n",
        "        for row in reader:\n",
        "            order_id = row['OrderID']\n",
        "            unique_orders.add(order_id)\n",
        "            item = {\n",
        "                'CustomerID': row['CustomerID'],\n",
        "                'OrderID': order_id,\n",
        "                'Date': row['Date'],\n",
        "                'OrderTotal': float(row['OrderTotal']),\n",
        "                'ProductName': row['ProductName'],\n",
        "                'Price': float(row['Price'])\n",
        "            }\n",
        "            data.append(item)\n",
        "            if order_id in num_items_per_order:\n",
        "                num_items_per_order[order_id] += 1\n",
        "            else:\n",
        "                num_items_per_order[order_id] = 1\n",
        "    \n",
        "    grouped_data = {}\n",
        "    for item in data:\n",
        "        customer_id = item['CustomerID']\n",
        "        if customer_id not in grouped_data:\n",
        "            grouped_data[customer_id] = []\n",
        "        grouped_data[customer_id].append(item)\n",
        "    \n",
        "    avg_items_per_order = round(sum(num_items_per_order.values()) / len(unique_orders), 2)\n",
        "    \n",
        "    return grouped_data, len(unique_orders), avg_items_per_order\n",
        "\n",
        "data, num_orders, avg_items_per_order = csv_to_dict(orders_datafile)\n",
        "print(avg_items_per_order) # prints the average number of items per order"
      ],
      "metadata": {
        "colab": {
          "base_uri": "https://localhost:8080/"
        },
        "id": "lYqb0fm5T0cv",
        "outputId": "fef490b7-9975-48dc-a110-e12461f12a04"
      },
      "execution_count": 5,
      "outputs": [
        {
          "output_type": "stream",
          "name": "stdout",
          "text": [
            "1.76\n"
          ]
        }
      ]
    },
    {
      "cell_type": "code",
      "source": [
        "import csv\n",
        "from datetime import datetime\n",
        "\n",
        "# Step 1: Read the data from the CSV file and store it in a list of dictionaries.\n",
        "def read_csv(filename):\n",
        "    data = []\n",
        "    with open(filename, newline='') as file:\n",
        "        reader = csv.DictReader(file)\n",
        "        for row in reader:\n",
        "            data.append(row)\n",
        "    return data\n",
        "\n",
        "# Step 2: Calculate the number of unique orders.\n",
        "def unique_orders(data):\n",
        "    unique_order_ids = set()\n",
        "    for row in data:\n",
        "        unique_order_ids.add(row['OrderID'])\n",
        "    return len(unique_order_ids)\n",
        "\n",
        "# Step 3: Calculate the average number of items per order.\n",
        "def avg_items_per_order(data):\n",
        "    item_counts = []\n",
        "    for customer_id in data:\n",
        "        orders = data[customer_id]\n",
        "        for order in orders:\n",
        "            item_counts.append(len(order['ProductName']))\n",
        "    avg_items = sum(item_counts) / len(item_counts)\n",
        "    return round(avg_items, 2)\n",
        "\n",
        "# Step 4: Calculate the highest number of items per order.\n",
        "def max_items_per_order(data):\n",
        "    max_items = 0\n",
        "    for customer_id in data:\n",
        "        orders = data[customer_id]\n",
        "        for order in orders:\n",
        "            items = len(order['ProductName'])\n",
        "            if items > max_items:\n",
        "                max_items = items\n",
        "    return max_items\n",
        "\n",
        "# Step 5: Calculate the number of orders placed in October 2021.\n",
        "def orders_in_oct_2021(data):\n",
        "    oct_2021_orders = 0\n",
        "    for row in data:\n",
        "        order_date = datetime.strptime(row['Date'], '%Y-%m-%d %H:%M:%S.%f')\n",
        "        if order_date.month == 10 and order_date.year == 2021:\n",
        "            oct_2021_orders += 1\n",
        "    return oct_2021_orders\n",
        "\n",
        "# Step 6: Determine which customer spent the most amount of money in 2021.\n",
        "def highest_spending_customer(data):\n",
        "    customer_totals = {}\n",
        "    for row in data:\n",
        "        customer_id = row['CustomerID']\n",
        "        order_total = float(row['OrderTotal'])\n",
        "        order_date = datetime.strptime(row['Date'], '%Y-%m-%d %H:%M:%S.%f')\n",
        "        if order_date.year == 2021:\n",
        "            if customer_id not in customer_totals:\n",
        "                customer_totals[customer_id] = 0.0\n",
        "            customer_totals[customer_id] += order_total\n",
        "    highest_spending = max(customer_totals, key=customer_totals.get)\n",
        "    return highest_spending\n",
        "\n",
        "# Step 7: Determine the best month for sales historically.\n",
        "def best_sales_month(data):\n",
        "    monthly_sales = {}\n",
        "    for row in data:\n",
        "        order_total = float(row['OrderTotal'])\n",
        "        order_date = datetime.strptime(row['Date'], '%Y-%m-%d %H:%M:%S.%f')\n",
        "        month_year = order_date.strftime('%Y-%m')\n",
        "        if month_year not in monthly_sales:\n",
        "            monthly_sales[month_year] = 0.0\n",
        "        monthly_sales[month_year] += order_total\n",
        "    best_month = max(monthly_sales, key=monthly_sales.get)\n",
        "    return best_month\n",
        "\n",
        "# Step 8: Call the functions to answer the questions.\n",
        "data = read_csv(orders_datafile)\n",
        "print('Question #1: How many unique orders are in the orders.csv file?')\n",
        "print('Answer:', unique_orders(data))\n",
        "print('\\nQuestion #2: What is the average number of items per order (rounded to two decimal places)?')\n",
        "print('Answer:', avg_items_per_order(data))\n",
        "print('\\nQuestion #3: What is the highest number of items per order?')\n",
        "print('Answer:', max_items_per_order(data))\n",
        "print('\\nQuestion #4: What is the number of orders placed in October 2021?')\n",
        "print('Answer:', orders_in_oct_2021(data))\n",
        "print('\\nQuestion #5: Which customer spent the most amount of money in 2021?')\n",
        "print('Answer:', highest_spending_customer(data))\n",
        "print('\\nQuestion #6: Historically, what is the best month for sales?')\n",
        "print('Answer:', best_sales_month(data))"
      ],
      "metadata": {
        "colab": {
          "base_uri": "https://localhost:8080/",
          "height": 445
        },
        "id": "vzkuG3QdVkRr",
        "outputId": "cf9f68a2-97e7-442b-cb70-58c2779234a1"
      },
      "execution_count": 11,
      "outputs": [
        {
          "output_type": "stream",
          "name": "stdout",
          "text": [
            "Question #1: How many unique orders are in the orders.csv file?\n",
            "Answer: 16672\n",
            "\n",
            "Question #2: What is the average number of items per order (rounded to two decimal places)?\n"
          ]
        },
        {
          "output_type": "error",
          "ename": "TypeError",
          "evalue": "ignored",
          "traceback": [
            "\u001b[0;31m---------------------------------------------------------------------------\u001b[0m",
            "\u001b[0;31mTypeError\u001b[0m                                 Traceback (most recent call last)",
            "\u001b[0;32m<ipython-input-11-c68b4da227d7>\u001b[0m in \u001b[0;36m<module>\u001b[0;34m\u001b[0m\n\u001b[1;32m     80\u001b[0m \u001b[0mprint\u001b[0m\u001b[0;34m(\u001b[0m\u001b[0;34m'Answer:'\u001b[0m\u001b[0;34m,\u001b[0m \u001b[0munique_orders\u001b[0m\u001b[0;34m(\u001b[0m\u001b[0mdata\u001b[0m\u001b[0;34m)\u001b[0m\u001b[0;34m)\u001b[0m\u001b[0;34m\u001b[0m\u001b[0;34m\u001b[0m\u001b[0m\n\u001b[1;32m     81\u001b[0m \u001b[0mprint\u001b[0m\u001b[0;34m(\u001b[0m\u001b[0;34m'\\nQuestion #2: What is the average number of items per order (rounded to two decimal places)?'\u001b[0m\u001b[0;34m)\u001b[0m\u001b[0;34m\u001b[0m\u001b[0;34m\u001b[0m\u001b[0m\n\u001b[0;32m---> 82\u001b[0;31m \u001b[0mprint\u001b[0m\u001b[0;34m(\u001b[0m\u001b[0;34m'Answer:'\u001b[0m\u001b[0;34m,\u001b[0m \u001b[0mavg_items_per_order\u001b[0m\u001b[0;34m(\u001b[0m\u001b[0mdata\u001b[0m\u001b[0;34m)\u001b[0m\u001b[0;34m)\u001b[0m\u001b[0;34m\u001b[0m\u001b[0;34m\u001b[0m\u001b[0m\n\u001b[0m\u001b[1;32m     83\u001b[0m \u001b[0mprint\u001b[0m\u001b[0;34m(\u001b[0m\u001b[0;34m'\\nQuestion #3: What is the highest number of items per order?'\u001b[0m\u001b[0;34m)\u001b[0m\u001b[0;34m\u001b[0m\u001b[0;34m\u001b[0m\u001b[0m\n\u001b[1;32m     84\u001b[0m \u001b[0mprint\u001b[0m\u001b[0;34m(\u001b[0m\u001b[0;34m'Answer:'\u001b[0m\u001b[0;34m,\u001b[0m \u001b[0mmax_items_per_order\u001b[0m\u001b[0;34m(\u001b[0m\u001b[0mdata\u001b[0m\u001b[0;34m)\u001b[0m\u001b[0;34m)\u001b[0m\u001b[0;34m\u001b[0m\u001b[0;34m\u001b[0m\u001b[0m\n",
            "\u001b[0;32m<ipython-input-11-c68b4da227d7>\u001b[0m in \u001b[0;36mavg_items_per_order\u001b[0;34m(data)\u001b[0m\n\u001b[1;32m     22\u001b[0m     \u001b[0mitem_counts\u001b[0m \u001b[0;34m=\u001b[0m \u001b[0;34m[\u001b[0m\u001b[0;34m]\u001b[0m\u001b[0;34m\u001b[0m\u001b[0;34m\u001b[0m\u001b[0m\n\u001b[1;32m     23\u001b[0m     \u001b[0;32mfor\u001b[0m \u001b[0mcustomer_id\u001b[0m \u001b[0;32min\u001b[0m \u001b[0mdata\u001b[0m\u001b[0;34m:\u001b[0m\u001b[0;34m\u001b[0m\u001b[0;34m\u001b[0m\u001b[0m\n\u001b[0;32m---> 24\u001b[0;31m         \u001b[0morders\u001b[0m \u001b[0;34m=\u001b[0m \u001b[0mdata\u001b[0m\u001b[0;34m[\u001b[0m\u001b[0mcustomer_id\u001b[0m\u001b[0;34m]\u001b[0m\u001b[0;34m\u001b[0m\u001b[0;34m\u001b[0m\u001b[0m\n\u001b[0m\u001b[1;32m     25\u001b[0m         \u001b[0;32mfor\u001b[0m \u001b[0morder\u001b[0m \u001b[0;32min\u001b[0m \u001b[0morders\u001b[0m\u001b[0;34m:\u001b[0m\u001b[0;34m\u001b[0m\u001b[0;34m\u001b[0m\u001b[0m\n\u001b[1;32m     26\u001b[0m             \u001b[0mitem_counts\u001b[0m\u001b[0;34m.\u001b[0m\u001b[0mappend\u001b[0m\u001b[0;34m(\u001b[0m\u001b[0mlen\u001b[0m\u001b[0;34m(\u001b[0m\u001b[0morder\u001b[0m\u001b[0;34m[\u001b[0m\u001b[0;34m'ProductName'\u001b[0m\u001b[0;34m]\u001b[0m\u001b[0;34m)\u001b[0m\u001b[0;34m)\u001b[0m\u001b[0;34m\u001b[0m\u001b[0;34m\u001b[0m\u001b[0m\n",
            "\u001b[0;31mTypeError\u001b[0m: list indices must be integers or slices, not dict"
          ]
        }
      ]
    },
    {
      "cell_type": "code",
      "source": [
        "import csv\n",
        "from datetime import datetime\n",
        "\n",
        "def csv_to_dict(csv_file):\n",
        "    with open(csv_file, newline='') as file:\n",
        "        reader = csv.DictReader(file)\n",
        "        data = []\n",
        "        for row in reader:\n",
        "            item = {\n",
        "                'OrderID': row['OrderID'],\n",
        "                'Date': datetime.strptime(row['Date'], '%Y-%m-%d %H:%M:%S.%f'),\n",
        "                'OrderTotal': float(row['OrderTotal']),\n",
        "                'ProductName': row['ProductName'],\n",
        "                'Price': float(row['Price'])\n",
        "            }\n",
        "            data.append(item)\n",
        "    \n",
        "    grouped_data = {}\n",
        "    for item in data:\n",
        "        customer_id = item['CustomerID']\n",
        "        if customer_id not in grouped_data:\n",
        "            grouped_data[customer_id] = []\n",
        "        grouped_data[customer_id].append(item)\n",
        "    \n",
        "    return grouped_data\n",
        "\n",
        "def count_unique_orders(data):\n",
        "    unique_orders = set()\n",
        "    for customer_id in data:\n",
        "        orders = data[customer_id]\n",
        "        for order in orders:\n",
        "            unique_orders.add(order['OrderID'])\n",
        "    return len(unique_orders)\n",
        "\n",
        "def average_items_per_order(data):\n",
        "    item_counts = []\n",
        "    for customer_id in data:\n",
        "        orders = data[customer_id]\n",
        "        for order in orders:\n",
        "            item_counts.append(len(order['ProductName']))\n",
        "    avg_items = sum(item_counts) / len(item_counts)\n",
        "    return round(avg_items, 2)\n",
        "\n",
        "def highest_items_per_order(data):\n",
        "    max_items = 0\n",
        "    for customer_id in data:\n",
        "        orders = data[customer_id]\n",
        "        for order in orders:\n",
        "            items = len(order['ProductName'])\n",
        "            if items > max_items:\n",
        "                max_items = items\n",
        "    return max_items\n",
        "\n",
        "def count_orders_in_month(data, year, month):\n",
        "    count = 0\n",
        "    for customer_id in data:\n",
        "        orders = data[customer_id]\n",
        "        for order in orders:\n",
        "            if order['Date'].year == year and order['Date'].month == month:\n",
        "                count += 1\n",
        "    return count\n",
        "\n",
        "def highest_spending_customer(data, year):\n",
        "    customer_totals = {}\n",
        "    for customer_id in data:\n",
        "        orders = data[customer_id]\n",
        "        total_spent = sum([order['OrderTotal'] for order in orders if order['Date'].year == year])\n",
        "        customer_totals[customer_id] = total_spent\n",
        "    max_spending = max(customer_totals.values())\n",
        "    for customer_id, total_spent in customer_totals.items():\n",
        "        if total_spent == max_spending:\n",
        "            return customer_id\n",
        "\n",
        "def best_month_for_sales(data):\n",
        "    sales_by_month = {}\n",
        "    for customer_id in data:\n",
        "        orders = data[customer_id]\n",
        "        for order in orders:\n",
        "            month = order['Date'].strftime('%Y-%m')\n",
        "            if month not in sales_by_month:\n",
        "                sales_by_month[month] = 0\n",
        "            sales_by_month[month] += order['OrderTotal']\n",
        "    best_month = max(sales_by_month, key=sales_by_month.get)\n",
        "    return best_month\n",
        "\n",
        "data = csv_to_dict(orders_datafile)\n",
        "\n",
        "# Question 1\n",
        "unique_orders = count_unique_orders(data)\n",
        "print(f\"Number of unique orders: {unique_orders}\")\n",
        "\n",
        "# Question 2\n",
        "avg_items_per_order = average_items_per_order(data)\n",
        "print(f\"Average number of items per order: {avg_items_per_order}\")\n",
        "\n",
        "# Question 3\n",
        "highest_items = highest_items_per_order(data)\n",
        "print(f\"Highest number of items per order: {highest_items}\")\n",
        "\n",
        "# Question 4\n",
        "october_orders = count_orders_in_month(data, 2021, 10)\n",
        "print(f\"Number of orders placed in October 2021: {october_orders}\")\n"
      ],
      "metadata": {
        "colab": {
          "base_uri": "https://localhost:8080/",
          "height": 396
        },
        "id": "D89UZC97ZFoL",
        "outputId": "2f09edb2-c8e2-49dd-dbf6-3d3ae1fd4d51"
      },
      "execution_count": 13,
      "outputs": [
        {
          "output_type": "error",
          "ename": "ValueError",
          "evalue": "ignored",
          "traceback": [
            "\u001b[0;31m---------------------------------------------------------------------------\u001b[0m",
            "\u001b[0;31mValueError\u001b[0m                                Traceback (most recent call last)",
            "\u001b[0;32m<ipython-input-13-9fa12cc3d339>\u001b[0m in \u001b[0;36m<module>\u001b[0;34m\u001b[0m\n\u001b[1;32m     84\u001b[0m     \u001b[0;32mreturn\u001b[0m \u001b[0mbest_month\u001b[0m\u001b[0;34m\u001b[0m\u001b[0;34m\u001b[0m\u001b[0m\n\u001b[1;32m     85\u001b[0m \u001b[0;34m\u001b[0m\u001b[0m\n\u001b[0;32m---> 86\u001b[0;31m \u001b[0mdata\u001b[0m \u001b[0;34m=\u001b[0m \u001b[0mcsv_to_dict\u001b[0m\u001b[0;34m(\u001b[0m\u001b[0morders_datafile\u001b[0m\u001b[0;34m)\u001b[0m\u001b[0;34m\u001b[0m\u001b[0;34m\u001b[0m\u001b[0m\n\u001b[0m\u001b[1;32m     87\u001b[0m \u001b[0;34m\u001b[0m\u001b[0m\n\u001b[1;32m     88\u001b[0m \u001b[0;31m# Question 1\u001b[0m\u001b[0;34m\u001b[0m\u001b[0;34m\u001b[0m\u001b[0m\n",
            "\u001b[0;32m<ipython-input-13-9fa12cc3d339>\u001b[0m in \u001b[0;36mcsv_to_dict\u001b[0;34m(csv_file)\u001b[0m\n\u001b[1;32m      9\u001b[0m             item = {\n\u001b[1;32m     10\u001b[0m                 \u001b[0;34m'OrderID'\u001b[0m\u001b[0;34m:\u001b[0m \u001b[0mrow\u001b[0m\u001b[0;34m[\u001b[0m\u001b[0;34m'OrderID'\u001b[0m\u001b[0;34m]\u001b[0m\u001b[0;34m,\u001b[0m\u001b[0;34m\u001b[0m\u001b[0;34m\u001b[0m\u001b[0m\n\u001b[0;32m---> 11\u001b[0;31m                 \u001b[0;34m'Date'\u001b[0m\u001b[0;34m:\u001b[0m \u001b[0mdatetime\u001b[0m\u001b[0;34m.\u001b[0m\u001b[0mstrptime\u001b[0m\u001b[0;34m(\u001b[0m\u001b[0mrow\u001b[0m\u001b[0;34m[\u001b[0m\u001b[0;34m'Date'\u001b[0m\u001b[0;34m]\u001b[0m\u001b[0;34m,\u001b[0m \u001b[0;34m'%Y-%m-%d %H:%M:%S.%f'\u001b[0m\u001b[0;34m)\u001b[0m\u001b[0;34m,\u001b[0m\u001b[0;34m\u001b[0m\u001b[0;34m\u001b[0m\u001b[0m\n\u001b[0m\u001b[1;32m     12\u001b[0m                 \u001b[0;34m'OrderTotal'\u001b[0m\u001b[0;34m:\u001b[0m \u001b[0mfloat\u001b[0m\u001b[0;34m(\u001b[0m\u001b[0mrow\u001b[0m\u001b[0;34m[\u001b[0m\u001b[0;34m'OrderTotal'\u001b[0m\u001b[0;34m]\u001b[0m\u001b[0;34m)\u001b[0m\u001b[0;34m,\u001b[0m\u001b[0;34m\u001b[0m\u001b[0;34m\u001b[0m\u001b[0m\n\u001b[1;32m     13\u001b[0m                 \u001b[0;34m'ProductName'\u001b[0m\u001b[0;34m:\u001b[0m \u001b[0mrow\u001b[0m\u001b[0;34m[\u001b[0m\u001b[0;34m'ProductName'\u001b[0m\u001b[0;34m]\u001b[0m\u001b[0;34m,\u001b[0m\u001b[0;34m\u001b[0m\u001b[0;34m\u001b[0m\u001b[0m\n",
            "\u001b[0;32m/usr/lib/python3.9/_strptime.py\u001b[0m in \u001b[0;36m_strptime_datetime\u001b[0;34m(cls, data_string, format)\u001b[0m\n\u001b[1;32m    566\u001b[0m     \"\"\"Return a class cls instance based on the input string and the\n\u001b[1;32m    567\u001b[0m     format string.\"\"\"\n\u001b[0;32m--> 568\u001b[0;31m     \u001b[0mtt\u001b[0m\u001b[0;34m,\u001b[0m \u001b[0mfraction\u001b[0m\u001b[0;34m,\u001b[0m \u001b[0mgmtoff_fraction\u001b[0m \u001b[0;34m=\u001b[0m \u001b[0m_strptime\u001b[0m\u001b[0;34m(\u001b[0m\u001b[0mdata_string\u001b[0m\u001b[0;34m,\u001b[0m \u001b[0mformat\u001b[0m\u001b[0;34m)\u001b[0m\u001b[0;34m\u001b[0m\u001b[0;34m\u001b[0m\u001b[0m\n\u001b[0m\u001b[1;32m    569\u001b[0m     \u001b[0mtzname\u001b[0m\u001b[0;34m,\u001b[0m \u001b[0mgmtoff\u001b[0m \u001b[0;34m=\u001b[0m \u001b[0mtt\u001b[0m\u001b[0;34m[\u001b[0m\u001b[0;34m-\u001b[0m\u001b[0;36m2\u001b[0m\u001b[0;34m:\u001b[0m\u001b[0;34m]\u001b[0m\u001b[0;34m\u001b[0m\u001b[0;34m\u001b[0m\u001b[0m\n\u001b[1;32m    570\u001b[0m     \u001b[0margs\u001b[0m \u001b[0;34m=\u001b[0m \u001b[0mtt\u001b[0m\u001b[0;34m[\u001b[0m\u001b[0;34m:\u001b[0m\u001b[0;36m6\u001b[0m\u001b[0;34m]\u001b[0m \u001b[0;34m+\u001b[0m \u001b[0;34m(\u001b[0m\u001b[0mfraction\u001b[0m\u001b[0;34m,\u001b[0m\u001b[0;34m)\u001b[0m\u001b[0;34m\u001b[0m\u001b[0;34m\u001b[0m\u001b[0m\n",
            "\u001b[0;32m/usr/lib/python3.9/_strptime.py\u001b[0m in \u001b[0;36m_strptime\u001b[0;34m(data_string, format)\u001b[0m\n\u001b[1;32m    347\u001b[0m     \u001b[0mfound\u001b[0m \u001b[0;34m=\u001b[0m \u001b[0mformat_regex\u001b[0m\u001b[0;34m.\u001b[0m\u001b[0mmatch\u001b[0m\u001b[0;34m(\u001b[0m\u001b[0mdata_string\u001b[0m\u001b[0;34m)\u001b[0m\u001b[0;34m\u001b[0m\u001b[0;34m\u001b[0m\u001b[0m\n\u001b[1;32m    348\u001b[0m     \u001b[0;32mif\u001b[0m \u001b[0;32mnot\u001b[0m \u001b[0mfound\u001b[0m\u001b[0;34m:\u001b[0m\u001b[0;34m\u001b[0m\u001b[0;34m\u001b[0m\u001b[0m\n\u001b[0;32m--> 349\u001b[0;31m         raise ValueError(\"time data %r does not match format %r\" %\n\u001b[0m\u001b[1;32m    350\u001b[0m                          (data_string, format))\n\u001b[1;32m    351\u001b[0m     \u001b[0;32mif\u001b[0m \u001b[0mlen\u001b[0m\u001b[0;34m(\u001b[0m\u001b[0mdata_string\u001b[0m\u001b[0;34m)\u001b[0m \u001b[0;34m!=\u001b[0m \u001b[0mfound\u001b[0m\u001b[0;34m.\u001b[0m\u001b[0mend\u001b[0m\u001b[0;34m(\u001b[0m\u001b[0;34m)\u001b[0m\u001b[0;34m:\u001b[0m\u001b[0;34m\u001b[0m\u001b[0;34m\u001b[0m\u001b[0m\n",
            "\u001b[0;31mValueError\u001b[0m: time data '' does not match format '%Y-%m-%d %H:%M:%S.%f'"
          ]
        }
      ]
    },
    {
      "cell_type": "code",
      "source": [
        "import csv\n",
        "\n",
        "def csv_to_dict(csv_file):\n",
        "    with open(csv_file, newline='') as f:\n",
        "        reader = csv.DictReader(f)\n",
        "        data = [row for row in reader][1:]  # skip the header row\n",
        "    grouped_data = {}\n",
        "    for item in data:\n",
        "        customer_id = item['CustomerID']\n",
        "        if customer_id not in grouped_data:\n",
        "            grouped_data[customer_id] = []\n",
        "        grouped_data[customer_id].append(item)\n",
        "    return grouped_data\n",
        "\n",
        "import datetime\n",
        "\n",
        "def answer_questions(data):\n",
        "    # Question #1: How many unique orders are in the orders.csv file?\n",
        "    unique_orders = set(item['OrderID'] for customer_orders in data.values() for item in customer_orders)\n",
        "    print(f\"Number of unique orders: {len(unique_orders)}\")\n",
        "\n",
        "    # Question #2: What is the average number of items per order (rounded to two decimal places)?\n",
        "    item_counts = [len(customer_orders) for customer_orders in data.values()]\n",
        "    avg_items = round(sum(item_counts) / len(item_counts), 2)\n",
        "    print(f\"Average number of items per order: {avg_items}\")\n",
        "\n",
        "    # Question #3: What is the highest number of items per order?\n",
        "    max_items = max(item_counts)\n",
        "    print(f\"Highest number of items per order: {max_items}\")\n",
        "\n",
        "    # Question #4: What is the number of orders placed in October 2021?\n",
        "    october_orders = [item for customer_orders in data.values() for item in customer_orders if item['Date'][:7] == '2021-10']\n",
        "    print(f\"Number of orders placed in October 2021: {len(october_orders)}\")\n",
        "\n",
        "    # Question #5: Which customer spent the most amount of money in 2021?\n",
        "    customer_spending = {}\n",
        "    for customer_orders in data.values():\n",
        "        for item in customer_orders:\n",
        "            if item['Date'].startswith('2021'):\n",
        "                customer_id = item['CustomerID']\n",
        "                order_total = float(item['OrderTotal'])\n",
        "                if customer_id not in customer_spending:\n",
        "                    customer_spending[customer_id] = 0\n",
        "                customer_spending[customer_id] += order_total\n",
        "    max_spending_customer = max(customer_spending, key=customer_spending.get)\n",
        "    print(f\"Customer who spent the most amount of money in 2021: {max_spending_customer}\")\n",
        "\n",
        "    # Question #6: Historically, what is the best month for sales?\n",
        "    monthly_sales = {}\n",
        "    for customer_orders in data.values():\n",
        "        for item in customer_orders:\n",
        "            date = item['Date'][:7]\n",
        "            order_total = float(item['OrderTotal'])\n",
        "            if date not in monthly_sales:\n",
        "                monthly_sales[date] = 0\n",
        "            monthly_sales[date] += order_total\n",
        "    best_month = max(monthly_sales, key=monthly_sales.get)\n",
        "    print(f\"Historically, the best month for sales is: {best_month}\")\n",
        "\n",
        "data = csv_to_dict(orders_datafile)\n",
        "answer_questions(data)    "
      ],
      "metadata": {
        "colab": {
          "base_uri": "https://localhost:8080/"
        },
        "id": "NBdJqLu-azc5",
        "outputId": "1790097b-08c4-44fd-b914-6b31906a5541"
      },
      "execution_count": 18,
      "outputs": [
        {
          "output_type": "stream",
          "name": "stdout",
          "text": [
            "Number of unique orders: 16671\n",
            "Average number of items per order: 62.19\n",
            "Highest number of items per order: 913\n",
            "Number of orders placed in October 2021: 437\n",
            "Customer who spent the most amount of money in 2021: 5464\n",
            "Historically, the best month for sales is: \n"
          ]
        }
      ]
    },
    {
      "cell_type": "markdown",
      "metadata": {
        "id": "ie0JW4FAk6Os"
      },
      "source": [
        "# Finished!\n",
        "\n",
        "Hope this was not too difficult and slicing and dicing the datasets was some fun. Now head on back to the course and provide the answers to the questions from this exercise."
      ]
    }
  ],
  "metadata": {
    "colab": {
      "provenance": [],
      "include_colab_link": true
    },
    "kernelspec": {
      "display_name": "Python 3 (ipykernel)",
      "language": "python",
      "name": "python3"
    },
    "language_info": {
      "codemirror_mode": {
        "name": "ipython",
        "version": 3
      },
      "file_extension": ".py",
      "mimetype": "text/x-python",
      "name": "python",
      "nbconvert_exporter": "python",
      "pygments_lexer": "ipython3",
      "version": "3.9.9"
    }
  },
  "nbformat": 4,
  "nbformat_minor": 0
}